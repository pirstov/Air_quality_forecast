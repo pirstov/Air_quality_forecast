{
 "cells": [
  {
   "cell_type": "markdown",
   "metadata": {},
   "source": [
    "Load Libraries"
   ]
  },
  {
   "cell_type": "code",
   "execution_count": null,
   "metadata": {
    "vscode": {
     "languageId": "plaintext"
    }
   },
   "outputs": [],
   "source": [
    "import numpy as np\n",
    "import matplotlib.pyplot as plt\n",
    "import cartopy  \n",
    "import cartopy.crs as ccrs  \n",
    "import cartopy.feature as cfeature\n",
    "import xarray as xr\n",
    "from datetime import datetime, timedelta\n",
    "import os\n",
    "import imageio  \n",
    "import glob  "
   ]
  },
  {
   "cell_type": "markdown",
   "metadata": {},
   "source": [
    "Identify the Latest Available NetCDF File"
   ]
  },
  {
   "cell_type": "code",
   "execution_count": null,
   "metadata": {
    "vscode": {
     "languageId": "plaintext"
    }
   },
   "outputs": [],
   "source": [
    "base_path = \"/scratch/project_2012160/CHIMERE/chimere_forecast/nest-FINLAND6-forecast/\"\n",
    "nc_files = sorted(glob.glob(os.path.join(base_path, \"chim_nest-FINLAND6-forecast_??????*_72_out.nc\")), reverse=True)\n",
    "\n",
    "if not nc_files:\n",
    "    print(\"Error: No NetCDF file found in the directory.\")\n",
    "    exit()\n",
    "\n",
    "file_path = nc_files[0]  # Latest available file\n",
    "print(f\"Using NetCDF file: {file_path}\")"
   ]
  },
  {
   "cell_type": "markdown",
   "metadata": {},
   "source": [
    "Open NetCDF dataset"
   ]
  },
  {
   "cell_type": "code",
   "execution_count": null,
   "metadata": {
    "vscode": {
     "languageId": "plaintext"
    }
   },
   "outputs": [],
   "source": [
    "try:\n",
    "    ds = xr.open_dataset(file_path)\n",
    "except FileNotFoundError:\n",
    "    print(f\"Error: Unable to open {file_path}.\")\n",
    "    exit()"
   ]
  },
  {
   "cell_type": "markdown",
   "metadata": {},
   "source": [
    "Function to Create Individual PM₂.₅ Plots"
   ]
  },
  {
   "cell_type": "code",
   "execution_count": null,
   "metadata": {
    "vscode": {
     "languageId": "plaintext"
    }
   },
   "outputs": [],
   "source": [
    "def create_plot(sub, time_label, output_file, cmap='magma_r'):\n",
    "    \"\"\"Creates a PM₂.₅ concentration plot.\"\"\"\n",
    "    cproj = ccrs.LambertConformal(central_longitude=24.2896, central_latitude=61.8417)\n",
    "    \n",
    "    fig = plt.figure(figsize=(6,6))\n",
    "    ax = plt.subplot(projection=cproj)\n",
    "    \n",
    "    c = plt.pcolormesh(\n",
    "        ds.nav_lon, ds.nav_lat, sub, cmap=cmap, transform=ccrs.PlateCarree(),\n",
    "        shading='gouraud', vmin=0, vmax=20\n",
    "    )\n",
    "    \n",
    "    cbar = plt.colorbar(c, fraction=0.040, pad=0.2, extend=\"both\")\n",
    "    cbar.set_label(label='PM$_{2.5}$ [µg m$^{-3}$]', fontsize=12)\n",
    "    cbar.ax.tick_params(labelsize=12)\n",
    "\n",
    "    ax.coastlines(color='k', linewidth=1)\n",
    "    ax.add_feature(cartopy.feature.BORDERS, color='k', linewidth=0.6, alpha=0.3)\n",
    "    ax.set_title(f\"PM$_{{2.5}}$ Concentration\\n{time_label}\", fontweight=\"bold\", fontsize=12)\n",
    "\n",
    "    gl = ax.gridlines(draw_labels=True, alpha=0.3, dms=False, x_inline=False, y_inline=False)\n",
    "    gl.xlabel_style = {'rotation': 0}\n",
    "\n",
    "    plt.savefig(output_file, dpi=300, bbox_inches='tight')\n",
    "    plt.close()"
   ]
  },
  {
   "cell_type": "markdown",
   "metadata": {},
   "source": [
    "Extract the Forecast Date from the Filename"
   ]
  },
  {
   "cell_type": "code",
   "execution_count": null,
   "metadata": {
    "vscode": {
     "languageId": "plaintext"
    }
   },
   "outputs": [],
   "source": [
    "filename = os.path.basename(file_path)\n",
    "date_str = filename.split(\"_\")[2]  \n",
    "start_time = datetime.strptime(date_str, \"%Y%m%d%H\")"
   ]
  },
  {
   "cell_type": "markdown",
   "metadata": {},
   "source": [
    "Generate Plots for 72 Hours"
   ]
  },
  {
   "cell_type": "code",
   "execution_count": null,
   "metadata": {
    "vscode": {
     "languageId": "plaintext"
    }
   },
   "outputs": [],
   "source": [
    "output_dir = \"pm_plots\"\n",
    "os.makedirs(output_dir, exist_ok=True)\n",
    "\n",
    "plot_files = []\n",
    "for i in range(72):  \n",
    "    data_time = start_time + timedelta(hours=i)  \n",
    "    time_label = data_time.strftime('%Y-%m-%d %H:%M:%S')\n",
    "\n",
    "    try:\n",
    "        sub = ds.PM25.sel(bottom_top=1).sel(time_counter=data_time, method=\"nearest\")\n",
    "    except KeyError:\n",
    "        print(f\"Skipping time step {time_label} - Not found in dataset.\")\n",
    "        continue\n",
    "\n",
    "    output_file = os.path.join(output_dir, f\"pm_plot_{i:02d}.png\")\n",
    "    create_plot(sub, time_label, output_file)\n",
    "    plot_files.append(output_file)"
   ]
  },
  {
   "cell_type": "markdown",
   "metadata": {},
   "source": [
    "Create GIF from Saved Images"
   ]
  },
  {
   "cell_type": "code",
   "execution_count": null,
   "metadata": {
    "vscode": {
     "languageId": "plaintext"
    }
   },
   "outputs": [],
   "source": [
    "gif_filename = \"pm_forecast.gif\"\n",
    "gif_output = os.path.join(output_dir, gif_filename)\n",
    "\n",
    "with imageio.get_writer(gif_output, mode='I', duration=0.5) as writer:\n",
    "    for plot_file in plot_files:\n",
    "        image = imageio.imread(plot_file)\n",
    "        writer.append_data(image)\n",
    "\n",
    "print(f\"GIF created: {gif_output}\")"
   ]
  }
 ],
 "metadata": {
  "language_info": {
   "name": "python"
  }
 },
 "nbformat": 4,
 "nbformat_minor": 2
}
